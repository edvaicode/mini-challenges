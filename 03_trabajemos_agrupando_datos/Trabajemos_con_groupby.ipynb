{
  "nbformat": 4,
  "nbformat_minor": 0,
  "metadata": {
    "colab": {
      "provenance": [],
      "collapsed_sections": [],
      "authorship_tag": "ABX9TyNen+AJj4KRaw1QsKAQHU88",
      "include_colab_link": true
    },
    "kernelspec": {
      "name": "python3",
      "display_name": "Python 3"
    },
    "language_info": {
      "name": "python"
    }
  },
  "cells": [
    {
      "cell_type": "markdown",
      "metadata": {
        "id": "view-in-github",
        "colab_type": "text"
      },
      "source": [
        "<a href=\"https://colab.research.google.com/github/edvaicode/mini-challenges/blob/main/03_trabajemos_agrupando_datos/Trabajemos_con_groupby.ipynb\" target=\"_parent\"><img src=\"https://colab.research.google.com/assets/colab-badge.svg\" alt=\"Open In Colab\"/></a>"
      ]
    },
    {
      "cell_type": "markdown",
      "source": [
        "![](https://github.com/nico-edvai/images/blob/main/header_edvai.jpg?raw=true)"
      ],
      "metadata": {
        "id": "qWWxTJIpR-Ij"
      }
    },
    {
      "cell_type": "markdown",
      "source": [
        "# A partir del siguiente dataset de buyers, $💰 gastado y de grupos\n",
        "\n",
        "\n",
        "1.   Hallar la cantidad de buyers en cada grupo (A,B,C)\n",
        "2.   Hallar el total 💰 $ de compras por cada buyer\n",
        "\n",
        "3.   Hallar la cantidad de compras  que realizo cada buyer\n",
        "\n",
        "4.  Hallar el media, mediana, desvío 💰$ por grupo (A,B,C)\n",
        "\n"
      ],
      "metadata": {
        "id": "bBpsEbycSF-V"
      }
    },
    {
      "cell_type": "markdown",
      "source": [
        "## Lo pueden resolver con R o Python\n",
        "\n",
        "\n",
        "https://dplyr.tidyverse.org/reference/summarise.html\n",
        "\n",
        "https://pandas.pydata.org/pandas-docs/stable/reference/api/pandas.DataFrame.groupby.html"
      ],
      "metadata": {
        "id": "eKwV2iW3JY4r"
      }
    },
    {
      "cell_type": "code",
      "source": [
        "import pandas as pd"
      ],
      "metadata": {
        "id": "xMIk8AObIVQX"
      },
      "execution_count": null,
      "outputs": []
    },
    {
      "cell_type": "code",
      "source": [
        "ruta = \"\"\n",
        "df_buyers = pd.read_csv(ruta)\n",
        "df_buyers"
      ],
      "metadata": {
        "id": "l7fFFwXyIUA0"
      },
      "execution_count": null,
      "outputs": []
    }
  ]
}